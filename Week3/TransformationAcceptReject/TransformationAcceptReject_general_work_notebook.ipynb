{
 "cells": [
  {
   "cell_type": "markdown",
   "metadata": {},
   "source": [
    "# The Transformation and Accept/Reject (aka. Von Neumann) methods \n",
    "Python notebook with exercise on how to generate random numbers following a specific PDF using uniformly distributed random numbers, in this case three different functions, each with their own challenge.\n",
    "\n",
    "Both the Accept-Reject (Von Neumann) and transformation method should be considered for the problem (or a combination of both!):\n",
    "- Transformation method (if function can be integrated and then inverted).\n",
    "- Accept-Reject (or Hit & Miss) method (by Ulam Stanislav and John Von Neumann).\n",
    "\n",
    "### References:\n",
    "- G. Cowan: Chapter 3\n",
    "- P. R. Bevington: page 81-84\n",
    "- __[40. Monte Carlo Techniques PDG](http://pdg.lbl.gov/2020/reviews/rpp2020-rev-monte-carlo-techniques.pdf)__\n",
    "\n",
    "### Authors: \n",
    "- Troels C. Petersen (Niels Bohr Institute)\n",
    "\n",
    "### Date:    \n",
    "- 29-11-2022 (latest update)\n",
    "\n",
    "***"
   ]
  },
  {
   "cell_type": "code",
   "execution_count": 1,
   "metadata": {},
   "outputs": [],
   "source": [
    "import numpy as np                                     # Matlab like syntax for linear algebra and functions\n",
    "import matplotlib.pyplot as plt                        # Plots and figures like you know them from Matlab\n",
    "import seaborn as sns                                  # Make the plots nicer to look at\n",
    "from iminuit import Minuit                             # The actual fitting tool, better than scipy's\n",
    "import sys                                             # Modules to see files and folders in directories\n",
    "from scipy import stats"
   ]
  },
  {
   "cell_type": "markdown",
   "metadata": {},
   "source": [
    "Load external functions:"
   ]
  },
  {
   "cell_type": "code",
   "execution_count": 2,
   "metadata": {},
   "outputs": [],
   "source": [
    "sys.path.append('../../External_Functions')\n",
    "from ExternalFunctions import Chi2Regression, BinnedLH, UnbinnedLH\n",
    "from ExternalFunctions import nice_string_output, add_text_to_ax    # Useful functions to print fit results on figure\n",
    "\n",
    "plt.rcParams['font.size'] = 18     # Set some basic plotting parameters"
   ]
  },
  {
   "cell_type": "markdown",
   "metadata": {},
   "source": [
    "Set the parameters of the program:"
   ]
  },
  {
   "cell_type": "code",
   "execution_count": 3,
   "metadata": {},
   "outputs": [],
   "source": [
    "r = np.random\n",
    "r.seed(42)\n",
    "\n",
    "save_plots = False  \n",
    "N_points = 10000    # Number of random points to be generated"
   ]
  },
  {
   "cell_type": "markdown",
   "metadata": {},
   "source": [
    "## Problem 1: \n",
    "\n",
    "#### Produce random points following $f(x) \\sim \\exp(-x/3), x \\in [0, \\infty]$."
   ]
  },
  {
   "cell_type": "code",
   "execution_count": 20,
   "metadata": {},
   "outputs": [],
   "source": [
    "# Define a reasonable range to plot in:\n",
    "xmin = 0\n",
    "xmax = 20\n",
    "N_bins = 100\n",
    "\n",
    "# asd, arbejd her\n",
    "\n",
    "x_exp = (-3*np.log((3-r.uniform(size=N_points))/3))     # \n"
   ]
  },
  {
   "cell_type": "markdown",
   "metadata": {},
   "source": [
    "And to make sure that we have computed the points correctly, we plot a histogram of the data:"
   ]
  },
  {
   "cell_type": "code",
   "execution_count": 21,
   "metadata": {},
   "outputs": [
    {
     "data": {
      "image/png": "[encoded data removed]",
      "text/plain": [
       "<Figure size 720x432 with 1 Axes>"
      ]
     },
     "metadata": {
      "needs_background": "light"
     },
     "output_type": "display_data"
    }
   ],
   "source": [
    "fig, ax = plt.subplots(figsize=(10, 6))\n",
    "ax.hist(x_exp, bins=100, range=(xmin, xmax), histtype='step', label='histogram' )\n",
    "ax.set(xlabel=\"x_exp\", ylabel=\"Frequency\", xlim=(xmin-1.0, xmax+1.0));"
   ]
  },
  {
   "cell_type": "markdown",
   "metadata": {},
   "source": [
    "## Problem 2: \n",
    "\n",
    "#### Produce random points following $g(x) \\sim x \\cos(x), x \\in [0, \\frac{\\pi}{2}]$."
   ]
  },
  {
   "cell_type": "code",
   "execution_count": 6,
   "metadata": {},
   "outputs": [],
   "source": [
    "xmin2, xmax2 = 0, np.pi/2         # Note the simple/short notation."
   ]
  },
  {
   "cell_type": "markdown",
   "metadata": {},
   "source": [
    "## Problem 3: \n",
    "\n",
    "#### Produce random points following $h(x) \\sim \\exp(-x/3)\\cos(x)^2$ in the interval $[0, \\infty]$ and estimate the integral of $h(x)$ in the defined range."
   ]
  },
  {
   "cell_type": "markdown",
   "metadata": {},
   "source": [
    "# Learning points:\n",
    "\n",
    "While you should by now be able to solve problem 1+2 with at least one of the methods, problem 3 is harder, and requires the combination of the two. Solving this exercise should make you:\n",
    "1. \"proficient\" in using the two standard methods.\n",
    "2. capable of getting random numbers according to ALL 1D PDFs, bounded/integrable/invertible or not.\n",
    "\n",
    "The last point of problem 3 should also illustrate, how you can estimate integrals using this method."
   ]
  }
 ],
 "metadata": {
  "executable": "/usr/bin/env python",
  "kernelspec": {
   "display_name": "Python 3 (ipykernel)",
   "language": "python",
   "name": "python3"
  },
  "language_info": {
   "codemirror_mode": {
    "name": "ipython",
    "version": 3
   },
   "file_extension": ".py",
   "mimetype": "text/x-python",
   "name": "python",
   "nbconvert_exporter": "python",
   "pygments_lexer": "ipython3",
   "version": "3.9.12"
  },
  "main_language": "python"
 },
 "nbformat": 4,
 "nbformat_minor": 2
}
